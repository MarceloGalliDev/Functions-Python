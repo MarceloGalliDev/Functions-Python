{
 "cells": [
  {
   "cell_type": "code",
   "execution_count": 3,
   "metadata": {},
   "outputs": [],
   "source": [
    "import cv2\n",
    "import numpy as np\n",
    "from PIL import Image"
   ]
  },
  {
   "cell_type": "code",
   "execution_count": 7,
   "metadata": {},
   "outputs": [],
   "source": [
    "# Carregar a imagem\n",
    "imagem = cv2.imread(\"pe-suino.jpg\")\n",
    "\n",
    "# Converter para o espaço de cores HSV (mais fácil para identificar cores)\n",
    "hsv = cv2.cvtColor(imagem, cv2.COLOR_BGR2HSV)\n",
    "\n",
    "# Definir o intervalo da cor do fundo (ajustar conforme necessário)\n",
    "# Exemplo para um fundo azul\n",
    "cor_baixa = np.array([0, 0, 0])\n",
    "cor_alta = np.array([240, 217, 211])\n",
    "\n",
    "# Criar uma máscara que identifica apenas as áreas do fundo\n",
    "mask = cv2.inRange(hsv, cor_baixa, cor_alta)\n",
    "\n",
    "# Inverter a máscara para obter a parte da frente\n",
    "mask_inv = cv2.bitwise_not(mask)\n",
    "\n",
    "# Isolar a parte da frente da imagem\n",
    "frente = cv2.bitwise_and(imagem, imagem, mask=mask_inv)\n",
    "\n",
    "# Converter para o formato do PIL e salvar, se necessário\n",
    "resultado = Image.fromarray(cv2.cvtColor(frente, cv2.COLOR_BGR2RGB))\n",
    "resultado.save('imagem_sem_fundo.png')"
   ]
  }
 ],
 "metadata": {
  "kernelspec": {
   "display_name": ".venv",
   "language": "python",
   "name": "python3"
  },
  "language_info": {
   "codemirror_mode": {
    "name": "ipython",
    "version": 3
   },
   "file_extension": ".py",
   "mimetype": "text/x-python",
   "name": "python",
   "nbconvert_exporter": "python",
   "pygments_lexer": "ipython3",
   "version": "3.11.4"
  }
 },
 "nbformat": 4,
 "nbformat_minor": 2
}
