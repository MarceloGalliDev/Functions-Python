{
 "cells": [
  {
   "cell_type": "code",
   "execution_count": null,
   "metadata": {},
   "outputs": [],
   "source": [
    "from socket import *"
   ]
  },
  {
   "cell_type": "code",
   "execution_count": null,
   "metadata": {},
   "outputs": [],
   "source": [
    "\n",
    "main_ports = [21, 80, 8080, 3306, 5432, 4455]\n",
    "open_ports = []\n",
    "\n",
    "\n",
    "def connection(ip, port):\n",
    "    s = socket(AF_INET, SOCK_STREAM)\n",
    "    s.settimeout(0.2)\n",
    "    code = s.connect_ex((ip, port))\n",
    "\n",
    "    return code\n",
    "\n",
    "\n",
    "def start(ip):\n",
    "    for port in main_ports:\n",
    "        code = connection(ip, port)\n",
    "\n",
    "        if code == 0:\n",
    "            open_ports.append(port)\n",
    "\n",
    "    if len(open_ports) > 0:\n",
    "        print(\"-----------------------------\")\n",
    "        print(f\"IP: {ip}\")\n",
    "\n",
    "        for port in open_ports:\n",
    "            print(f\"PORT -> {port} OPEN\")\n",
    "\n",
    "\n",
    "for i in range(100, 111):\n",
    "    ip = f'192.168.1.{i}'\n",
    "    start(ip)"
   ]
  }
 ],
 "metadata": {
  "language_info": {
   "name": "python"
  }
 },
 "nbformat": 4,
 "nbformat_minor": 2
}
